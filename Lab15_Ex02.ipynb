{
 "cells": [
  {
   "cell_type": "markdown",
   "metadata": {},
   "source": [
    "# Lab 15 Exercise 2"
   ]
  },
  {
   "cell_type": "markdown",
   "metadata": {},
   "source": [
    "## Method overloading (Compile time polymorphism)"
   ]
  },
  {
   "cell_type": "markdown",
   "metadata": {},
   "source": [
    "1.สร้าง console application project\n",
    "\n",
    "```cmd\n",
    "dotnet new console --name Lab15_Ex02\n",
    "```"
   ]
  },
  {
   "cell_type": "markdown",
   "metadata": {},
   "source": [
    "2.เปลี่ยน code ให้เป็นดังต่อไปนี้\n",
    "\n",
    "```csharp\n",
    "using static System.Console;\n",
    "WriteLine(Calculator.AddValues(2, 3));\n",
    "WriteLine(Calculator.AddValues(2.0f, 3.0f));\n",
    "WriteLine(Calculator.AddValues(2L, 3L));\n",
    "\n",
    "public static class Calculator\n",
    "{\n",
    "    public static int AddValues(int a, int b)\n",
    "    {\n",
    "        WriteLine(\"Calculated by method: public static long AddValues(int a, int b)\");\n",
    "        return a + b;\n",
    "    }\n",
    "    public static long AddValues(int c, int d)\n",
    "    {\n",
    "        WriteLine(\"Calculated by method: public static long AddValues(int c, int d)\");\n",
    "        return c + d;\n",
    "    }\n",
    "    public static float AddValues(int f, int g)\n",
    "    {\n",
    "        WriteLine(\"Calculated by method: public static long AddValues(int f, int g)\");\n",
    "        return (long) (f + g);\n",
    "    }\n",
    "   public static long AddValues(long h, long i)\n",
    "    {\n",
    "        WriteLine(\"Calculated by method: public static long AddValues(long h, long i)\");\n",
    "        return (long) (h + i);\n",
    "    }\n",
    "}\n",
    "```"
   ]
  },
  {
   "cell_type": "markdown",
   "metadata": {},
   "source": [
    "3.Build project โดยการใช้คำสั่ง\n",
    "\n",
    "```cmd\n",
    "dotnet build  Lab15_Ex02\n",
    "```\n",
    "\n",
    "ถ้ามีที่ผิดพลาดในโปรแกรม ให้แก้ไขให้ถูกต้อง"
   ]
  },
  {
   "cell_type": "markdown",
   "metadata": {},
   "source": [
    "4.บันทึกผลที่ได้จากการรันคำสั่งในข้อ 3"
   ]
  },
  {
   "attachments": {
    "image.png": {
     "image/png": "[encoded data removed]"
    }
   },
   "cell_type": "markdown",
   "metadata": {},
   "source": [
    "![image.png](attachment:image.png)"
   ]
  },
  {
   "cell_type": "markdown",
   "metadata": {},
   "source": [
    "5.Run project โดยการใช้คำสั่ง\n",
    "```cmd\n",
    "dotnet run --project Lab15_Ex02\n",
    "```\n",
    "\n"
   ]
  },
  {
   "cell_type": "markdown",
   "metadata": {},
   "source": [
    "6.บันทึกผลที่ได้จากการรันคำสั่งในข้อ 5"
   ]
  },
  {
   "attachments": {
    "image.png": {
     "image/png": "[encoded data removed]"
    }
   },
   "cell_type": "markdown",
   "metadata": {},
   "source": [
    "![image.png](attachment:image.png)"
   ]
  },
  {
   "cell_type": "markdown",
   "metadata": {},
   "source": [
    "7.อธิบายสิ่งที่พบในการทดลอง"
   ]
  },
  {
   "cell_type": "markdown",
   "metadata": {},
   "source": [
    "1.การโอเวอร์โหลดเมธอด: เมธอด AddValues มีหลายเวอร์ชันที่รองรับประเภทข้อมูลที่แตกต่างกัน ดังนี้:\n",
    "\n",
    "จำนวนเต็ม (int): AddValues(int a, int b)\n",
    "\n",
    "จำนวนทศนิยม (float): AddValues(float c, float d)\n",
    "\n",
    "จำนวนเต็มยาว (long): AddValues(long f, long g)\n",
    "\n",
    "จำนวนทศนิยมคู่ (double): AddValues(double h, double i)\n",
    "\n",
    "2.การเรียกใช้งานเมธอด:\n",
    "\n",
    "Calculator.AddValues(2, 3) จะเรียกเมธอดสำหรับจำนวนเต็มสองตัว ส่งผลให้ผลลัพธ์คือ 5 พร้อมข้อความที่ระบุว่าใช้เมธอดไหน\n",
    "\n",
    "Calculator.AddValues(2.0f, 3.0f) จะเรียกเมธอดสำหรับจำนวนทศนิยมสองตัว ส่งผลให้ผลลัพธ์คือ 5.0 พร้อมข้อความที่บอกว่าใช้เมธอดสำหรับ float\n",
    "\n",
    "Calculator.AddValues(2L, 3L) จะเรียกเมธอดสำหรับจำนวนเต็มยาว ส่งผลให้ผลลัพธ์คือ 5 พร้อมข้อความที่ระบุว่าใช้เมธอดสำหรับ long\n",
    "\n",
    "3.ข้อความเอาท์พุต: เมธอดแต่ละตัวจะแสดงข้อความที่บอกว่าเมธอดใดถูกเรียกใช้งาน ซึ่งช่วยในการตรวจสอบว่าเมธอดไหนที่ถูกดำเนินการในการคำนวณ"
   ]
  }
 ],
 "metadata": {
  "kernelspec": {
   "display_name": ".NET (C#)",
   "language": "C#",
   "name": ".net-csharp"
  },
  "polyglot_notebook": {
   "kernelInfo": {
    "defaultKernelName": "csharp",
    "items": [
     {
      "aliases": [],
      "languageName": "csharp",
      "name": "csharp"
     }
    ]
   }
  }
 },
 "nbformat": 4,
 "nbformat_minor": 2
}
