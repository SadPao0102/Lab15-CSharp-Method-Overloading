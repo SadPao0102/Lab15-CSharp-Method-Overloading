{
 "cells": [
  {
   "cell_type": "markdown",
   "metadata": {},
   "source": [
    "# Lab 15 Exercise 1"
   ]
  },
  {
   "cell_type": "markdown",
   "metadata": {},
   "source": [
    "## Method overloading"
   ]
  },
  {
   "cell_type": "markdown",
   "metadata": {},
   "source": [
    "1.สร้าง console application project\n",
    "\n",
    "```cmd\n",
    "dotnet new console --name Lab15_Ex01\n",
    "```"
   ]
  },
  {
   "cell_type": "markdown",
   "metadata": {},
   "source": [
    "2.เปลี่ยน code ให้เป็นดังต่อไปนี้\n",
    "\n",
    "```csharp\n",
    "using static System.Console;\n",
    "WriteLine(Calculator.AddValues(2, 3));\n",
    "WriteLine(Calculator.AddValues(2, 3, 4));\n",
    "WriteLine(Calculator.AddValues(2.5f, 3.7f));\n",
    "WriteLine(Calculator.AddValues(2L, 3L));\n",
    "\n",
    "public static class Calculator\n",
    "{\n",
    "    public static long AddValues(int a, int b)\n",
    "    {\n",
    "        WriteLine(\"Calculated by method: public static long AddValues(int a, int b)\");\n",
    "        return a + b;\n",
    "    }\n",
    "    public static long AddValues(int c, int d, int e)\n",
    "    {\n",
    "        WriteLine(\"Calculated by method: public static long AddValues(int c, int d, int e)\");\n",
    "        return c + d + e;\n",
    "    }\n",
    "    public static long AddValues(float f, float g)\n",
    "    {\n",
    "        WriteLine(\"Calculated by method: public static long AddValues(float f, float g)\");\n",
    "        return (long) (f + g);\n",
    "    }\n",
    "   public static long AddValues(long h, long i)\n",
    "    {\n",
    "        WriteLine(\"Calculated by method: public static long AddValues(long h, long i)\");\n",
    "        return (long) (h + i);\n",
    "    }\n",
    "}\n",
    "```"
   ]
  },
  {
   "cell_type": "markdown",
   "metadata": {},
   "source": [
    "3.Build project โดยการใช้คำสั่ง\n",
    "\n",
    "```cmd\n",
    "dotnet build  Lab15_Ex01\n",
    "```\n",
    "\n",
    "ถ้ามีที่ผิดพลาดในโปรแกรม ให้แก้ไขให้ถูกต้อง"
   ]
  },
  {
   "cell_type": "markdown",
   "metadata": {},
   "source": [
    "4.บันทึกผลที่ได้จากการรันคำสั่งในข้อ 3"
   ]
  },
  {
   "attachments": {
    "image.png": {
     "image/png": "[encoded data removed]"
    }
   },
   "cell_type": "markdown",
   "metadata": {},
   "source": [
    "![image.png](attachment:image.png)"
   ]
  },
  {
   "cell_type": "markdown",
   "metadata": {},
   "source": [
    "5.Run project โดยการใช้คำสั่ง\n",
    "```cmd\n",
    "dotnet run --project Lab15_Ex01\n",
    "```\n",
    "\n"
   ]
  },
  {
   "cell_type": "markdown",
   "metadata": {},
   "source": [
    "6.บันทึกผลที่ได้จากการรันคำสั่งในข้อ 5"
   ]
  },
  {
   "attachments": {
    "image.png": {
     "image/png": "[encoded data removed]"
    }
   },
   "cell_type": "markdown",
   "metadata": {},
   "source": [
    "![image.png](attachment:image.png)"
   ]
  },
  {
   "cell_type": "markdown",
   "metadata": {},
   "source": [
    "7.อธิบายสิ่งที่พบในการทดลอง"
   ]
  },
  {
   "cell_type": "markdown",
   "metadata": {},
   "source": [
    "1.การโอเวอร์โหลดเมธอด: เมธอด AddValues มีหลายเวอร์ชันที่รับพารามิเตอร์ที่แตกต่างกัน ดังนี้:\n",
    "\n",
    "รับพารามิเตอร์เป็นจำนวนเต็มสองตัว: AddValues(int a, int b)\n",
    "\n",
    "รับพารามิเตอร์เป็นจำนวนเต็มสามตัว: AddValues(int c, int d, int e)\n",
    "\n",
    "รับพารามิเตอร์เป็นจำนวนทศนิยมสองตัว: AddValues(float f, float g)\n",
    "\n",
    "รับพารามิเตอร์เป็นจำนวนเต็มยาวสองตัว: AddValues(long h, long i)\n",
    "\n",
    "2.การเรียกใช้งานเมธอด: การเรียกใช้งาน Calculator.AddValues ในคำสั่ง WriteLine แต่ละคำจะตรงกับเมธอดที่มีการโอเวอร์โหลด:\n",
    "\n",
    "Calculator.AddValues(2, 3) จะเรียกเมธอดสำหรับจำนวนเต็มสองตัว ผลลัพธ์คือ 5\n",
    "\n",
    "Calculator.AddValues(2, 3, 4) จะเรียกเมธอดสำหรับจำนวนเต็มสามตัว ผลลัพธ์คือ 9\n",
    "\n",
    "Calculator.AddValues(2.5f, 3.7f) จะเรียกเมธอดสำหรับจำนวนทศนิยมสองตัว ผลลัพธ์คือ 6 (ผลรวมถูกแปลงเป็น long)\n",
    "\n",
    "Calculator.AddValues(2L, 3L) จะเรียกเมธอดสำหรับจำนวนเต็มยาวสองตัว ผลลัพธ์คือ 5 (เช่นเดียวกันถูกแปลงเป็น long)\n",
    "\n",
    "3.ข้อความเอาท์พุต: เมธอดแต่ละตัวจะแสดงข้อความที่บอกว่าเมธอดใดถูกเรียกใช้งาน ซึ่งช่วยในการติดตามว่าฟังก์ชันใดที่ถูกดำเนินการ"
   ]
  }
 ],
 "metadata": {
  "kernelspec": {
   "display_name": ".NET (C#)",
   "language": "C#",
   "name": ".net-csharp"
  },
  "polyglot_notebook": {
   "kernelInfo": {
    "defaultKernelName": "csharp",
    "items": [
     {
      "aliases": [],
      "languageName": "csharp",
      "name": "csharp"
     }
    ]
   }
  }
 },
 "nbformat": 4,
 "nbformat_minor": 2
}
